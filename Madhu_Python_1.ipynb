{
  "nbformat": 4,
  "nbformat_minor": 0,
  "metadata": {
    "colab": {
      "name": "Madhu_Python_1.ipynb",
      "provenance": [],
      "authorship_tag": "ABX9TyPTf5Df0sZwI+j5kmDR4Ms+",
      "include_colab_link": true
    },
    "kernelspec": {
      "name": "python3",
      "display_name": "Python 3"
    },
    "language_info": {
      "name": "python"
    }
  },
  "cells": [
    {
      "cell_type": "markdown",
      "metadata": {
        "id": "view-in-github",
        "colab_type": "text"
      },
      "source": [
        "<a href=\"https://colab.research.google.com/github/madhunannuri/Programming/blob/main/Madhu_Python_1.ipynb\" target=\"_parent\"><img src=\"https://colab.research.google.com/assets/colab-badge.svg\" alt=\"Open In Colab\"/></a>"
      ]
    },
    {
      "cell_type": "code",
      "metadata": {
        "colab": {
          "base_uri": "https://localhost:8080/"
        },
        "id": "gL1vXYr2cC7F",
        "outputId": "ca656bc6-6b73-4908-fae5-a3112814a772"
      },
      "source": [
        "print(10)"
      ],
      "execution_count": null,
      "outputs": [
        {
          "output_type": "stream",
          "text": [
            "10\n"
          ],
          "name": "stdout"
        }
      ]
    },
    {
      "cell_type": "code",
      "metadata": {
        "colab": {
          "base_uri": "https://localhost:8080/"
        },
        "id": "R5aCpwAbdehs",
        "outputId": "7075d36b-a884-4289-f247-29c2380e5dad"
      },
      "source": [
        "a = 10\n",
        "a = 20\n",
        "print(a)"
      ],
      "execution_count": null,
      "outputs": [
        {
          "output_type": "stream",
          "text": [
            "20\n"
          ],
          "name": "stdout"
        }
      ]
    },
    {
      "cell_type": "code",
      "metadata": {
        "colab": {
          "base_uri": "https://localhost:8080/"
        },
        "id": "JIRRVr6yf4Gq",
        "outputId": "582831cb-a12f-41c9-f7b4-462eadefea28"
      },
      "source": [
        "a = 10\n",
        "b = 20\n",
        "print(id(a))\n",
        "print(id(b))\n",
        "print(type(a))"
      ],
      "execution_count": null,
      "outputs": [
        {
          "output_type": "stream",
          "text": [
            "94082889112352\n",
            "94082889112672\n",
            "<class 'int'>\n"
          ],
          "name": "stdout"
        }
      ]
    },
    {
      "cell_type": "code",
      "metadata": {
        "colab": {
          "base_uri": "https://localhost:8080/"
        },
        "id": "voMMgh41hutH",
        "outputId": "81ca929a-1310-479b-a1d0-a593c1119491"
      },
      "source": [
        "a = 23.5\n",
        "print(type(a))"
      ],
      "execution_count": null,
      "outputs": [
        {
          "output_type": "stream",
          "text": [
            "<class 'float'>\n"
          ],
          "name": "stdout"
        }
      ]
    },
    {
      "cell_type": "code",
      "metadata": {
        "colab": {
          "base_uri": "https://localhost:8080/"
        },
        "id": "YPBmPpp9h4aY",
        "outputId": "f8d4db10-7b1a-4c7f-ee23-30a4cf3a465c"
      },
      "source": [
        "a = 'madhu'\n",
        "print(a)\n",
        "print(id(a))\n",
        "print(type(a))\n"
      ],
      "execution_count": null,
      "outputs": [
        {
          "output_type": "stream",
          "text": [
            "madhu\n",
            "140708029898928\n",
            "<class 'str'>\n"
          ],
          "name": "stdout"
        }
      ]
    },
    {
      "cell_type": "code",
      "metadata": {
        "colab": {
          "base_uri": "https://localhost:8080/"
        },
        "id": "olekrD1iiFtu",
        "outputId": "bcabe6fb-87fd-4fcc-9b81-639ddeffcf68"
      },
      "source": [
        "a = True\n",
        "print(a)\n",
        "print(id(a))\n",
        "print(type(a))"
      ],
      "execution_count": null,
      "outputs": [
        {
          "output_type": "stream",
          "text": [
            "True\n",
            "94082888438016\n",
            "<class 'bool'>\n"
          ],
          "name": "stdout"
        }
      ]
    },
    {
      "cell_type": "code",
      "metadata": {
        "colab": {
          "base_uri": "https://localhost:8080/"
        },
        "id": "ZEX0ZExriN0-",
        "outputId": "1b2545e7-55a2-4af9-b9aa-232407f5ae83"
      },
      "source": [
        "a = 1\n",
        "B = 'MADHU'\n",
        "print(a)\n",
        "print(id(a))\n",
        "print(type(a))\n",
        "print(type(B))"
      ],
      "execution_count": null,
      "outputs": [
        {
          "output_type": "stream",
          "text": [
            "1\n",
            "94082889112064\n",
            "<class 'int'>\n",
            "<class 'str'>\n"
          ],
          "name": "stdout"
        }
      ]
    },
    {
      "cell_type": "code",
      "metadata": {
        "colab": {
          "base_uri": "https://localhost:8080/"
        },
        "id": "V5M2imlOiiER",
        "outputId": "d4661ba4-4823-4fb7-e4b2-584afd339f7a"
      },
      "source": [
        "A = 10\n",
        "B = 34.4\n",
        "C = 'HELLO'\n",
        "D = True\n",
        "print(A,B,C,D)"
      ],
      "execution_count": null,
      "outputs": [
        {
          "output_type": "stream",
          "text": [
            "10 34.4 HELLO True\n"
          ],
          "name": "stdout"
        }
      ]
    }
  ]
}